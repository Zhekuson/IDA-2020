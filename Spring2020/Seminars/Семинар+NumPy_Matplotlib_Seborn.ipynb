{
 "cells": [
  {
   "cell_type": "markdown",
   "metadata": {
    "colab_type": "text",
    "id": "sqavZHrxS3BF"
   },
   "source": [
    "Векторы в NumPy.\n",
    "======="
   ]
  },
  {
   "cell_type": "markdown",
   "metadata": {
    "colab_type": "text",
    "id": "Vs1WVJR5S3BJ"
   },
   "source": [
    "Перед началом работы в любой библиотеке, ее на импортировать:"
   ]
  },
  {
   "cell_type": "code",
   "execution_count": 1,
   "metadata": {
    "colab": {},
    "colab_type": "code",
    "id": "yPQIyGoWS3BK"
   },
   "outputs": [],
   "source": [
    "import numpy as np"
   ]
  },
  {
   "cell_type": "markdown",
   "metadata": {
    "colab_type": "text",
    "id": "UxcsnYj6S3BQ"
   },
   "source": [
    "А далее можно начать работать с объектами библиотеки, в данном случае - с многомерными массивами."
   ]
  },
  {
   "cell_type": "code",
   "execution_count": null,
   "metadata": {
    "colab": {},
    "colab_type": "code",
    "id": "qI2PYiVFTHnv"
   },
   "outputs": [],
   "source": []
  },
  {
   "cell_type": "markdown",
   "metadata": {
    "colab_type": "text",
    "id": "LigzaVGSS3BS"
   },
   "source": [
    "* ***Термины***"
   ]
  },
  {
   "cell_type": "markdown",
   "metadata": {
    "colab_type": "text",
    "id": "_deuZeYZS3BU"
   },
   "source": [
    "Однако, измерения массива в данной библиотеке называются осями (axis-axes), а их количество -  рангом (rank)."
   ]
  },
  {
   "cell_type": "markdown",
   "metadata": {
    "colab_type": "text",
    "id": "qGjqqXvnS3BW"
   },
   "source": [
    "Например, массив из трех элементов, который является, по сути, координатой точки в трехмерном пространстве,"
   ]
  },
  {
   "cell_type": "code",
   "execution_count": 2,
   "metadata": {
    "colab": {},
    "colab_type": "code",
    "id": "yEJh6DCUS3BX",
    "outputId": "4180895c-9dc4-4939-91d4-b659e6aa28e6"
   },
   "outputs": [
    {
     "name": "stdout",
     "output_type": "stream",
     "text": [
      "[1 2 1]\n"
     ]
    }
   ],
   "source": [
    "a = np.array([1, 2, 1])\n",
    "print(a)"
   ]
  },
  {
   "cell_type": "markdown",
   "metadata": {
    "colab_type": "text",
    "id": "AQabl0WeS3Bb"
   },
   "source": [
    "имеет ранг 1 и одну ось, а другой массив"
   ]
  },
  {
   "cell_type": "code",
   "execution_count": 3,
   "metadata": {
    "colab": {},
    "colab_type": "code",
    "id": "9LKmAeF8S3Bc",
    "outputId": "04b4e982-7cec-4115-a041-0462a4c72c3e"
   },
   "outputs": [
    {
     "name": "stdout",
     "output_type": "stream",
     "text": [
      "[[1 0 1]\n",
      " [0 2 1]]\n"
     ]
    }
   ],
   "source": [
    "b = np.array([[1, 0, 1], [0, 2, 1]])\n",
    "print(b)"
   ]
  },
  {
   "cell_type": "markdown",
   "metadata": {
    "colab_type": "text",
    "id": "JbibJboCS3Bf"
   },
   "source": [
    "имеет ранг 2 и две оси."
   ]
  },
  {
   "cell_type": "markdown",
   "metadata": {
    "colab_type": "text",
    "id": "2a0nw1xhS3Bg"
   },
   "source": [
    "Проверить количество измерений, т.е. осей можно с помощью"
   ]
  },
  {
   "cell_type": "code",
   "execution_count": 4,
   "metadata": {
    "colab": {},
    "colab_type": "code",
    "id": "w4uSV6XxS3Bh",
    "outputId": "05895a72-ae4a-4466-aead-83422bf71d86"
   },
   "outputs": [
    {
     "name": "stdout",
     "output_type": "stream",
     "text": [
      "1 2\n"
     ]
    }
   ],
   "source": [
    "print(a.ndim, b.ndim)"
   ]
  },
  {
   "cell_type": "markdown",
   "metadata": {
    "colab_type": "text",
    "id": "prHUmmziS3Bk"
   },
   "source": [
    "Размеры массива можно узнать\n",
    "так:"
   ]
  },
  {
   "cell_type": "code",
   "execution_count": 5,
   "metadata": {
    "colab": {},
    "colab_type": "code",
    "id": "iKxYvCQmS3Bl",
    "outputId": "ededaa62-7d5c-473e-845b-25948670778c"
   },
   "outputs": [
    {
     "name": "stdout",
     "output_type": "stream",
     "text": [
      "(2, 3) \n",
      " 6\n"
     ]
    }
   ],
   "source": [
    "print(b.shape, '\\n', b.size)"
   ]
  },
  {
   "cell_type": "markdown",
   "metadata": {
    "colab_type": "text",
    "id": "fhiLMZjiS3Bo"
   },
   "source": [
    "* ***Векторы***"
   ]
  },
  {
   "cell_type": "markdown",
   "metadata": {
    "colab_type": "text",
    "id": "srxmWNstS3Bp"
   },
   "source": [
    "Чтобы работать с векторами, т.е. матрицами 1 на n, удобнее представлять их в виде списка списка, представляющего одну строку."
   ]
  },
  {
   "cell_type": "code",
   "execution_count": 6,
   "metadata": {
    "colab": {},
    "colab_type": "code",
    "id": "q1n_UzDaS3Bq",
    "outputId": "0c440981-70d3-47d7-d938-8ee856017468"
   },
   "outputs": [
    {
     "name": "stdout",
     "output_type": "stream",
     "text": [
      "[[1 2 3]]\n"
     ]
    }
   ],
   "source": [
    "a = np.array([[1, 2, 3]])\n",
    "print(a)"
   ]
  },
  {
   "cell_type": "markdown",
   "metadata": {
    "colab_type": "text",
    "id": "OOSeJVeqS3Bt"
   },
   "source": [
    "Благодаря такому представлению мы можем совершать определенные действия с векторами. Например, транспонирование:"
   ]
  },
  {
   "cell_type": "code",
   "execution_count": 7,
   "metadata": {
    "colab": {},
    "colab_type": "code",
    "id": "FpgoxpIcS3Bu",
    "outputId": "12a6805b-91e9-4c34-ff1f-c1adbc4f3272"
   },
   "outputs": [
    {
     "name": "stdout",
     "output_type": "stream",
     "text": [
      "[[1]\n",
      " [2]\n",
      " [3]]\n"
     ]
    }
   ],
   "source": [
    "b = a.T\n",
    "print(b)"
   ]
  },
  {
   "cell_type": "markdown",
   "metadata": {
    "colab_type": "text",
    "id": "ZxPPmLJWS3Bx"
   },
   "source": [
    "С векторами можно проводить матричные операции: прибавить число, умножить на число, сложить вектора."
   ]
  },
  {
   "cell_type": "code",
   "execution_count": 8,
   "metadata": {
    "colab": {},
    "colab_type": "code",
    "id": "i1aVo9lPS3By",
    "outputId": "58a5112a-4abe-41dc-fd45-c990cec4d42c"
   },
   "outputs": [
    {
     "name": "stdout",
     "output_type": "stream",
     "text": [
      "[[4]\n",
      " [5]\n",
      " [6]]\n",
      "\n",
      "[[2 4 6]]\n",
      "\n",
      "[[2 3 4]\n",
      " [3 4 5]\n",
      " [4 5 6]]\n"
     ]
    }
   ],
   "source": [
    "print(b + 3, a * 2, a + b, sep='\\n'*2)"
   ]
  },
  {
   "cell_type": "markdown",
   "metadata": {
    "colab_type": "text",
    "id": "iG7TW1FZS3B2"
   },
   "source": [
    "И еще пара методов, которые иногда полезны. Другие методы можно легко найти в документации."
   ]
  },
  {
   "cell_type": "code",
   "execution_count": 9,
   "metadata": {
    "colab": {},
    "colab_type": "code",
    "id": "QHL_bA-yS3B2",
    "outputId": "6ea2a555-d18f-44ff-ce68-a7b8f485b6df"
   },
   "outputs": [
    {
     "name": "stdout",
     "output_type": "stream",
     "text": [
      "6 3 1\n"
     ]
    }
   ],
   "source": [
    "b = a.sum()\n",
    "c = a.max()\n",
    "d = a.min()\n",
    "print(b, c, d)"
   ]
  },
  {
   "cell_type": "markdown",
   "metadata": {
    "colab_type": "text",
    "id": "02nUIs4ZS3B5"
   },
   "source": [
    "<https://docs.scipy.org/doc/numpy/reference/>"
   ]
  },
  {
   "cell_type": "markdown",
   "metadata": {
    "colab_type": "text",
    "id": "KyaoOC7xS3B6"
   },
   "source": [
    "Операции с матрицами.\n",
    "======"
   ]
  },
  {
   "cell_type": "markdown",
   "metadata": {
    "colab_type": "text",
    "id": "4sD1iXhVS3B6"
   },
   "source": [
    "* ***Умножение***"
   ]
  },
  {
   "cell_type": "code",
   "execution_count": 10,
   "metadata": {
    "colab": {},
    "colab_type": "code",
    "id": "Z9B7YRmbS3B7",
    "outputId": "d416a7c4-dc33-469b-f6e6-ddb325ff1192"
   },
   "outputs": [
    {
     "name": "stdout",
     "output_type": "stream",
     "text": [
      "[[1 0 0]\n",
      " [0 2 0]\n",
      " [0 0 3]]\n"
     ]
    }
   ],
   "source": [
    "a = np.diag(range(1, 4))\n",
    "print(a)"
   ]
  },
  {
   "cell_type": "code",
   "execution_count": 11,
   "metadata": {
    "colab": {},
    "colab_type": "code",
    "id": "V9sJ7bkUS3B-",
    "outputId": "c3e2940f-2853-4df6-a116-9c6ddc4910cf"
   },
   "outputs": [
    {
     "name": "stdout",
     "output_type": "stream",
     "text": [
      "[[5 0 0 0 0]\n",
      " [0 4 0 0 0]\n",
      " [0 0 3 0 0]\n",
      " [0 0 0 2 0]\n",
      " [0 0 0 0 1]]\n"
     ]
    }
   ],
   "source": [
    "b = np.diag(range(5, 0, -1))\n",
    "print(b)"
   ]
  },
  {
   "cell_type": "markdown",
   "metadata": {
    "colab_type": "text",
    "id": "UHsQbLlKS3CA"
   },
   "source": [
    "Расссмотрим операцию перемножения матриц. Ее можно представить так:"
   ]
  },
  {
   "cell_type": "code",
   "execution_count": 12,
   "metadata": {
    "colab": {},
    "colab_type": "code",
    "id": "DBfsJbcuS3CB",
    "outputId": "fc7aeecf-d9ff-41b8-d213-025cdf289f42"
   },
   "outputs": [
    {
     "ename": "ValueError",
     "evalue": "operands could not be broadcast together with shapes (3,3) (5,5) ",
     "output_type": "error",
     "traceback": [
      "\u001b[1;31m---------------------------------------------------------------------------\u001b[0m",
      "\u001b[1;31mValueError\u001b[0m                                Traceback (most recent call last)",
      "\u001b[1;32m<ipython-input-12-3c9273a798f4>\u001b[0m in \u001b[0;36m<module>\u001b[1;34m\u001b[0m\n\u001b[1;32m----> 1\u001b[1;33m \u001b[0mc\u001b[0m \u001b[1;33m=\u001b[0m \u001b[0ma\u001b[0m \u001b[1;33m*\u001b[0m \u001b[0mb\u001b[0m\u001b[1;33m\u001b[0m\u001b[1;33m\u001b[0m\u001b[0m\n\u001b[0m\u001b[0;32m      2\u001b[0m \u001b[0mprint\u001b[0m\u001b[1;33m(\u001b[0m\u001b[0mc\u001b[0m\u001b[1;33m)\u001b[0m\u001b[1;33m\u001b[0m\u001b[1;33m\u001b[0m\u001b[0m\n",
      "\u001b[1;31mValueError\u001b[0m: operands could not be broadcast together with shapes (3,3) (5,5) "
     ]
    }
   ],
   "source": [
    "c = a * b\n",
    "print(c)"
   ]
  },
  {
   "cell_type": "markdown",
   "metadata": {
    "colab_type": "text",
    "id": "6KyMB4ePS3CE"
   },
   "source": [
    "или:"
   ]
  },
  {
   "cell_type": "code",
   "execution_count": 13,
   "metadata": {
    "colab": {},
    "colab_type": "code",
    "id": "8u1CTiOIS3CF",
    "outputId": "267d2d9c-bec7-4fda-a01c-24c2952ddbc0"
   },
   "outputs": [
    {
     "ename": "ValueError",
     "evalue": "shapes (3,3) and (5,5) not aligned: 3 (dim 1) != 5 (dim 0)",
     "output_type": "error",
     "traceback": [
      "\u001b[1;31m---------------------------------------------------------------------------\u001b[0m",
      "\u001b[1;31mValueError\u001b[0m                                Traceback (most recent call last)",
      "\u001b[1;32m<ipython-input-13-ed699707b3db>\u001b[0m in \u001b[0;36m<module>\u001b[1;34m\u001b[0m\n\u001b[1;32m----> 1\u001b[1;33m \u001b[0mc\u001b[0m \u001b[1;33m=\u001b[0m \u001b[0ma\u001b[0m\u001b[1;33m.\u001b[0m\u001b[0mdot\u001b[0m\u001b[1;33m(\u001b[0m\u001b[0mb\u001b[0m\u001b[1;33m)\u001b[0m\u001b[1;33m\u001b[0m\u001b[1;33m\u001b[0m\u001b[0m\n\u001b[0m\u001b[0;32m      2\u001b[0m \u001b[0mprint\u001b[0m\u001b[1;33m(\u001b[0m\u001b[0mc\u001b[0m\u001b[1;33m)\u001b[0m\u001b[1;33m\u001b[0m\u001b[1;33m\u001b[0m\u001b[0m\n",
      "\u001b[1;31mValueError\u001b[0m: shapes (3,3) and (5,5) not aligned: 3 (dim 1) != 5 (dim 0)"
     ]
    }
   ],
   "source": [
    "c = a.dot(b)\n",
    "print(c)"
   ]
  },
  {
   "cell_type": "markdown",
   "metadata": {
    "colab_type": "text",
    "id": "6GiZJWeZS3CI"
   },
   "source": [
    "Однако это совпадение. Если взять другие массивы, например:"
   ]
  },
  {
   "cell_type": "code",
   "execution_count": 14,
   "metadata": {
    "colab": {},
    "colab_type": "code",
    "id": "5bd8fzdbS3CJ",
    "outputId": "f34a3f4b-d67a-4c69-f20e-77caa81e1e98"
   },
   "outputs": [
    {
     "name": "stdout",
     "output_type": "stream",
     "text": [
      "[[1 2 3]\n",
      " [1 2 3]\n",
      " [1 2 3]] \n",
      "\n",
      " [[1 2 3]\n",
      " [1 2 3]\n",
      " [1 2 3]]\n"
     ]
    }
   ],
   "source": [
    "a = np.array([[1, 2, 3], [1, 2, 3], [1, 2, 3]])\n",
    "b = a.copy()\n",
    "print(a, '\\n' * 2, b)"
   ]
  },
  {
   "cell_type": "code",
   "execution_count": 15,
   "metadata": {
    "colab": {},
    "colab_type": "code",
    "id": "6MpXGR3uS3CN",
    "outputId": "df11b96e-ba7e-4877-c281-1d15c56b50dc"
   },
   "outputs": [
    {
     "name": "stdout",
     "output_type": "stream",
     "text": [
      "[[1 4 9]\n",
      " [1 4 9]\n",
      " [1 4 9]]\n"
     ]
    }
   ],
   "source": [
    "c = a * b\n",
    "print(c)"
   ]
  },
  {
   "cell_type": "code",
   "execution_count": 16,
   "metadata": {
    "colab": {},
    "colab_type": "code",
    "id": "_r0C17XBS3CW",
    "outputId": "3c66ebc3-7297-4c2b-b2fd-b9564664847a"
   },
   "outputs": [
    {
     "name": "stdout",
     "output_type": "stream",
     "text": [
      "[[ 6 12 18]\n",
      " [ 6 12 18]\n",
      " [ 6 12 18]]\n"
     ]
    }
   ],
   "source": [
    "c = a.dot(b)\n",
    "print(c)"
   ]
  },
  {
   "cell_type": "markdown",
   "metadata": {
    "colab_type": "text",
    "id": "cNO2w9MBS3CZ"
   },
   "source": [
    "Как видим, * перемножает матрицы поэлементно, а dot() по правилу перемножения матриц."
   ]
  },
  {
   "cell_type": "markdown",
   "metadata": {
    "colab_type": "text",
    "id": "cB-IT-6BS3Ca"
   },
   "source": [
    "* ***Определитель***"
   ]
  },
  {
   "cell_type": "markdown",
   "metadata": {
    "colab_type": "text",
    "id": "Y6P5NO3OS3Ca"
   },
   "source": [
    "Теперь же мы приступим к более серьёзным вещам, которые есть в NumPy. Начнем с модуля numpy.linalg, позволяющего делать многие интересные операции из линейной алгебры."
   ]
  },
  {
   "cell_type": "markdown",
   "metadata": {
    "colab_type": "text",
    "id": "dKzM4fHnS3Cb"
   },
   "source": [
    "Для начала начнем с простого. Посмотрим, как считать определитель матрицы:"
   ]
  },
  {
   "cell_type": "code",
   "execution_count": 17,
   "metadata": {
    "colab": {},
    "colab_type": "code",
    "id": "A2GsMLXwS3Cc",
    "outputId": "0690c910-e750-4b7d-8559-f426071be0b9"
   },
   "outputs": [
    {
     "name": "stdout",
     "output_type": "stream",
     "text": [
      "[[1 4 3]\n",
      " [1 4 3]\n",
      " [1 4 3]]\n"
     ]
    }
   ],
   "source": [
    "a = np.array([[1, 4, 3]] * 3)\n",
    "print(a)"
   ]
  },
  {
   "cell_type": "code",
   "execution_count": 18,
   "metadata": {
    "colab": {},
    "colab_type": "code",
    "id": "unQpQJvvS3Cf",
    "outputId": "631c7607-9e53-4faf-8c28-85a5c4f2ddde"
   },
   "outputs": [
    {
     "name": "stdout",
     "output_type": "stream",
     "text": [
      "0.0\n"
     ]
    }
   ],
   "source": [
    "d = np.linalg.det(a)\n",
    "print(d)"
   ]
  },
  {
   "cell_type": "markdown",
   "metadata": {
    "colab_type": "text",
    "id": "_2A6ppgrS3Ch"
   },
   "source": [
    "Для каждой матрицы значение определителя является важным параметром. Если определитель матрицы равен 0, то она называется вырожденной. "
   ]
  },
  {
   "cell_type": "code",
   "execution_count": 19,
   "metadata": {
    "colab": {},
    "colab_type": "code",
    "id": "0jnXHEPnS3Ci",
    "outputId": "55477906-ce06-4eac-b27d-136e85400603"
   },
   "outputs": [
    {
     "name": "stdout",
     "output_type": "stream",
     "text": [
      "[[1 2 3]\n",
      " [4 3 2]\n",
      " [3 4 5]] \n",
      "\n",
      " -3.885780586188051e-16\n"
     ]
    }
   ],
   "source": [
    "a = np.array([np.arange(1, 4), np.arange(4, 1, -1), np.arange(3, 6)])\n",
    "print(a, '\\n' * 2, np.linalg.det(a))"
   ]
  },
  {
   "cell_type": "markdown",
   "metadata": {
    "colab_type": "text",
    "id": "nAiDzdCCS3Ck"
   },
   "source": [
    "Определитель можно считать не только для матриц ранга 2, но для матриц любого ранга. Однако тогда для матриц ранга >=2 он по отдельности будет считать определители двумерных матриц, которые входят в исходную."
   ]
  },
  {
   "cell_type": "code",
   "execution_count": 20,
   "metadata": {
    "colab": {},
    "colab_type": "code",
    "id": "NFR4pdn9S3Cm",
    "outputId": "eb332cf3-dd9e-40aa-a2f7-b69c50077520"
   },
   "outputs": [
    {
     "name": "stdout",
     "output_type": "stream",
     "text": [
      "[[[1 1]\n",
      "  [2 2]]\n",
      "\n",
      " [[1 2]\n",
      "  [2 1]]] \n",
      "\n",
      "\n",
      "[ 0. -3.]\n"
     ]
    }
   ],
   "source": [
    "a = np.array([[[1, 1], [2, 2]], [[1, 2], [2, 1]]])\n",
    "print(a, '\\n' * 2)\n",
    "print(np.linalg.det(a))"
   ]
  },
  {
   "cell_type": "markdown",
   "metadata": {
    "colab_type": "text",
    "id": "j84zqviKS3Cp"
   },
   "source": [
    "* ***Обращение матриц***"
   ]
  },
  {
   "cell_type": "markdown",
   "metadata": {
    "colab_type": "text",
    "id": "p48Gm5oCS3Cq"
   },
   "source": [
    "С помощью того же модуля можно найти обратную матрицу (обратная матрица — такая матрица, при умножении на которую исходная матрица даёт в результате единичную матрицу) к данной:"
   ]
  },
  {
   "cell_type": "code",
   "execution_count": 21,
   "metadata": {
    "colab": {},
    "colab_type": "code",
    "id": "hOr9cdHvS3Cq",
    "outputId": "0596044d-03e8-4b39-e393-fd383299b9f2"
   },
   "outputs": [
    {
     "ename": "LinAlgError",
     "evalue": "Singular matrix",
     "output_type": "error",
     "traceback": [
      "\u001b[1;31m---------------------------------------------------------------------------\u001b[0m",
      "\u001b[1;31mLinAlgError\u001b[0m                               Traceback (most recent call last)",
      "\u001b[1;32m<ipython-input-21-7183f53e3a86>\u001b[0m in \u001b[0;36m<module>\u001b[1;34m\u001b[0m\n\u001b[0;32m      1\u001b[0m \u001b[0ma\u001b[0m \u001b[1;33m=\u001b[0m \u001b[0mnp\u001b[0m\u001b[1;33m.\u001b[0m\u001b[0marray\u001b[0m\u001b[1;33m(\u001b[0m\u001b[1;33m[\u001b[0m\u001b[1;33m[\u001b[0m\u001b[1;36m1\u001b[0m\u001b[1;33m,\u001b[0m \u001b[1;36m4\u001b[0m\u001b[1;33m,\u001b[0m \u001b[1;36m3\u001b[0m\u001b[1;33m]\u001b[0m\u001b[1;33m]\u001b[0m \u001b[1;33m*\u001b[0m \u001b[1;36m3\u001b[0m\u001b[1;33m)\u001b[0m\u001b[1;33m\u001b[0m\u001b[1;33m\u001b[0m\u001b[0m\n\u001b[1;32m----> 2\u001b[1;33m \u001b[0mb\u001b[0m \u001b[1;33m=\u001b[0m \u001b[0mnp\u001b[0m\u001b[1;33m.\u001b[0m\u001b[0mlinalg\u001b[0m\u001b[1;33m.\u001b[0m\u001b[0minv\u001b[0m\u001b[1;33m(\u001b[0m\u001b[0ma\u001b[0m\u001b[1;33m)\u001b[0m\u001b[1;33m\u001b[0m\u001b[1;33m\u001b[0m\u001b[0m\n\u001b[0m\u001b[0;32m      3\u001b[0m \u001b[0mprint\u001b[0m\u001b[1;33m(\u001b[0m\u001b[0mb\u001b[0m\u001b[1;33m)\u001b[0m\u001b[1;33m\u001b[0m\u001b[1;33m\u001b[0m\u001b[0m\n",
      "\u001b[1;32mC:\\Anaconda\\lib\\site-packages\\numpy\\linalg\\linalg.py\u001b[0m in \u001b[0;36minv\u001b[1;34m(a)\u001b[0m\n\u001b[0;32m    549\u001b[0m     \u001b[0msignature\u001b[0m \u001b[1;33m=\u001b[0m \u001b[1;34m'D->D'\u001b[0m \u001b[1;32mif\u001b[0m \u001b[0misComplexType\u001b[0m\u001b[1;33m(\u001b[0m\u001b[0mt\u001b[0m\u001b[1;33m)\u001b[0m \u001b[1;32melse\u001b[0m \u001b[1;34m'd->d'\u001b[0m\u001b[1;33m\u001b[0m\u001b[1;33m\u001b[0m\u001b[0m\n\u001b[0;32m    550\u001b[0m     \u001b[0mextobj\u001b[0m \u001b[1;33m=\u001b[0m \u001b[0mget_linalg_error_extobj\u001b[0m\u001b[1;33m(\u001b[0m\u001b[0m_raise_linalgerror_singular\u001b[0m\u001b[1;33m)\u001b[0m\u001b[1;33m\u001b[0m\u001b[1;33m\u001b[0m\u001b[0m\n\u001b[1;32m--> 551\u001b[1;33m     \u001b[0mainv\u001b[0m \u001b[1;33m=\u001b[0m \u001b[0m_umath_linalg\u001b[0m\u001b[1;33m.\u001b[0m\u001b[0minv\u001b[0m\u001b[1;33m(\u001b[0m\u001b[0ma\u001b[0m\u001b[1;33m,\u001b[0m \u001b[0msignature\u001b[0m\u001b[1;33m=\u001b[0m\u001b[0msignature\u001b[0m\u001b[1;33m,\u001b[0m \u001b[0mextobj\u001b[0m\u001b[1;33m=\u001b[0m\u001b[0mextobj\u001b[0m\u001b[1;33m)\u001b[0m\u001b[1;33m\u001b[0m\u001b[1;33m\u001b[0m\u001b[0m\n\u001b[0m\u001b[0;32m    552\u001b[0m     \u001b[1;32mreturn\u001b[0m \u001b[0mwrap\u001b[0m\u001b[1;33m(\u001b[0m\u001b[0mainv\u001b[0m\u001b[1;33m.\u001b[0m\u001b[0mastype\u001b[0m\u001b[1;33m(\u001b[0m\u001b[0mresult_t\u001b[0m\u001b[1;33m,\u001b[0m \u001b[0mcopy\u001b[0m\u001b[1;33m=\u001b[0m\u001b[1;32mFalse\u001b[0m\u001b[1;33m)\u001b[0m\u001b[1;33m)\u001b[0m\u001b[1;33m\u001b[0m\u001b[1;33m\u001b[0m\u001b[0m\n\u001b[0;32m    553\u001b[0m \u001b[1;33m\u001b[0m\u001b[0m\n",
      "\u001b[1;32mC:\\Anaconda\\lib\\site-packages\\numpy\\linalg\\linalg.py\u001b[0m in \u001b[0;36m_raise_linalgerror_singular\u001b[1;34m(err, flag)\u001b[0m\n\u001b[0;32m     95\u001b[0m \u001b[1;33m\u001b[0m\u001b[0m\n\u001b[0;32m     96\u001b[0m \u001b[1;32mdef\u001b[0m \u001b[0m_raise_linalgerror_singular\u001b[0m\u001b[1;33m(\u001b[0m\u001b[0merr\u001b[0m\u001b[1;33m,\u001b[0m \u001b[0mflag\u001b[0m\u001b[1;33m)\u001b[0m\u001b[1;33m:\u001b[0m\u001b[1;33m\u001b[0m\u001b[1;33m\u001b[0m\u001b[0m\n\u001b[1;32m---> 97\u001b[1;33m     \u001b[1;32mraise\u001b[0m \u001b[0mLinAlgError\u001b[0m\u001b[1;33m(\u001b[0m\u001b[1;34m\"Singular matrix\"\u001b[0m\u001b[1;33m)\u001b[0m\u001b[1;33m\u001b[0m\u001b[1;33m\u001b[0m\u001b[0m\n\u001b[0m\u001b[0;32m     98\u001b[0m \u001b[1;33m\u001b[0m\u001b[0m\n\u001b[0;32m     99\u001b[0m \u001b[1;32mdef\u001b[0m \u001b[0m_raise_linalgerror_nonposdef\u001b[0m\u001b[1;33m(\u001b[0m\u001b[0merr\u001b[0m\u001b[1;33m,\u001b[0m \u001b[0mflag\u001b[0m\u001b[1;33m)\u001b[0m\u001b[1;33m:\u001b[0m\u001b[1;33m\u001b[0m\u001b[1;33m\u001b[0m\u001b[0m\n",
      "\u001b[1;31mLinAlgError\u001b[0m: Singular matrix"
     ]
    }
   ],
   "source": [
    "a = np.array([[1, 4, 3]] * 3)\n",
    "b = np.linalg.inv(a)\n",
    "print(b)"
   ]
  },
  {
   "cell_type": "markdown",
   "metadata": {
    "colab_type": "text",
    "id": "yVWJx9SVS3Ct"
   },
   "source": [
    "Эта ошибка обозначает, что матрица, от которой мы хотим найти обратную, вырожденная, т.е. ее определитель равен 0. Проверим это:"
   ]
  },
  {
   "cell_type": "code",
   "execution_count": 22,
   "metadata": {
    "colab": {},
    "colab_type": "code",
    "id": "7xYPcVB-S3Cu",
    "outputId": "6bbe94d9-fc22-4549-ec08-0dfd5c3226bf"
   },
   "outputs": [
    {
     "name": "stdout",
     "output_type": "stream",
     "text": [
      "0.0\n"
     ]
    }
   ],
   "source": [
    "b = np.linalg.det(a)\n",
    "print(b)"
   ]
  },
  {
   "cell_type": "markdown",
   "metadata": {
    "colab_type": "text",
    "id": "xq-9dkQ1S3Cx"
   },
   "source": [
    "Чтобы изменить значение определителя, достаточно изменить пару элементов матрицы."
   ]
  },
  {
   "cell_type": "code",
   "execution_count": 23,
   "metadata": {
    "colab": {},
    "colab_type": "code",
    "id": "KhwhgdDqS3Cx",
    "outputId": "b3d04dbd-c508-4b2e-f46e-773a37a7a106"
   },
   "outputs": [
    {
     "name": "stdout",
     "output_type": "stream",
     "text": [
      "[[4 4 3]\n",
      " [1 4 1]\n",
      " [1 4 3]]\n"
     ]
    }
   ],
   "source": [
    "a[0][0] = 4\n",
    "a[1][2] = 1\n",
    "print(a)"
   ]
  },
  {
   "cell_type": "code",
   "execution_count": 24,
   "metadata": {
    "colab": {},
    "colab_type": "code",
    "id": "x8MswTpMS3Cz",
    "outputId": "3b5d89e5-5a99-4ee6-f07f-4bcfa68cc683"
   },
   "outputs": [
    {
     "name": "stdout",
     "output_type": "stream",
     "text": [
      "24.000000000000004\n"
     ]
    }
   ],
   "source": [
    "b = np.linalg.det(a)\n",
    "print(b)"
   ]
  },
  {
   "cell_type": "code",
   "execution_count": 25,
   "metadata": {
    "colab": {},
    "colab_type": "code",
    "id": "fRqRaGurS3C2",
    "outputId": "cf3e38d0-13e2-45d6-ade5-e101abb80bad"
   },
   "outputs": [
    {
     "name": "stdout",
     "output_type": "stream",
     "text": [
      "[[ 0.33333333  0.         -0.33333333]\n",
      " [-0.08333333  0.375      -0.04166667]\n",
      " [ 0.         -0.5         0.5       ]]\n"
     ]
    }
   ],
   "source": [
    "b = np.linalg.inv(a)\n",
    "print(b)"
   ]
  },
  {
   "cell_type": "markdown",
   "metadata": {
    "colab_type": "text",
    "id": "iQ9iV187S3C5"
   },
   "source": [
    "* ***Скалярное произведение***"
   ]
  },
  {
   "cell_type": "markdown",
   "metadata": {
    "colab_type": "text",
    "id": "YaSUpINkS3C6"
   },
   "source": [
    "Скалярное произведение можно найти двумя способами (тут без подвохов, результат в любом случае будет один и тот же). Первый - функция, второй - метод."
   ]
  },
  {
   "cell_type": "code",
   "execution_count": 26,
   "metadata": {
    "colab": {},
    "colab_type": "code",
    "id": "P3HJja5_S3C6"
   },
   "outputs": [],
   "source": [
    "a = np.array([1, 3, 5])\n",
    "b = np.array([2, 4, 6])"
   ]
  },
  {
   "cell_type": "code",
   "execution_count": 27,
   "metadata": {
    "colab": {},
    "colab_type": "code",
    "id": "S_-xvf16S3C-",
    "outputId": "8ce545f6-71c2-4d3d-af4b-569983c14cfe"
   },
   "outputs": [
    {
     "name": "stdout",
     "output_type": "stream",
     "text": [
      "44\n"
     ]
    }
   ],
   "source": [
    "c = np.dot(a, b)\n",
    "print(c)"
   ]
  },
  {
   "cell_type": "code",
   "execution_count": 28,
   "metadata": {
    "colab": {},
    "colab_type": "code",
    "id": "Tb-C5MxhS3DA",
    "outputId": "8452c7ff-ce23-447a-de5d-d9d2a1cedac5"
   },
   "outputs": [
    {
     "name": "stdout",
     "output_type": "stream",
     "text": [
      "44\n"
     ]
    }
   ],
   "source": [
    "c = a.dot(b)\n",
    "print(c)"
   ]
  },
  {
   "cell_type": "markdown",
   "metadata": {
    "colab_type": "text",
    "id": "QmO87Ez2S3DC"
   },
   "source": [
    "Как видно, скалярное произведение векторов по сути является перемножением матриц 1 на n."
   ]
  },
  {
   "cell_type": "markdown",
   "metadata": {
    "colab_type": "text",
    "id": "Tr0v69hrS3DD"
   },
   "source": [
    "Эффективность операций\n",
    "=========="
   ]
  },
  {
   "cell_type": "markdown",
   "metadata": {
    "colab_type": "text",
    "id": "KGpRDijDS3DE"
   },
   "source": [
    "На этом моменте может возникнуть закономерный вопрос: зачем писать отдельную библиотеку для реализации операций с матрицами, когда это возможно сделать вручную и зачастую довольно быстро?"
   ]
  },
  {
   "cell_type": "markdown",
   "metadata": {
    "colab_type": "text",
    "id": "luPa6gz-S3DE"
   },
   "source": [
    "Давайте сравним скорость работы программы, которую мы напишем сами для поэлементного перемножения матриц и функции из NumPy."
   ]
  },
  {
   "cell_type": "code",
   "execution_count": 29,
   "metadata": {
    "colab": {},
    "colab_type": "code",
    "id": "pa9VphEZS3DF"
   },
   "outputs": [],
   "source": [
    "import time"
   ]
  },
  {
   "cell_type": "markdown",
   "metadata": {
    "colab_type": "text",
    "id": "aOAjG-5RS3DI"
   },
   "source": [
    "Очень интересный модуль Python, который позволяет работать со временем. Из него мы возьмем только функцию time.time(), которая возвращает время, выраженное в секундах."
   ]
  },
  {
   "cell_type": "code",
   "execution_count": 30,
   "metadata": {
    "colab": {},
    "colab_type": "code",
    "id": "BIp4O_i0S3DJ",
    "outputId": "af035a11-8506-44d2-d395-c9bc2ab03a53"
   },
   "outputs": [
    {
     "name": "stdout",
     "output_type": "stream",
     "text": [
      "0.00000000 Seconds\n",
      "[[5 0 0 0 0]\n",
      " [0 8 0 0 0]\n",
      " [0 0 9 0 0]\n",
      " [0 0 0 8 0]\n",
      " [0 0 0 0 5]]\n"
     ]
    }
   ],
   "source": [
    "a = np.diag(range(1, 6))\n",
    "b = np.diag(range(5, 0, -1))\n",
    "t0 = time.time()\n",
    "c = a * b\n",
    "t1 = time.time()\n",
    "print('{0:.8f} Seconds'.format(t1 - t0))\n",
    "print(c)"
   ]
  },
  {
   "cell_type": "code",
   "execution_count": 31,
   "metadata": {
    "colab": {},
    "colab_type": "code",
    "id": "sXlbmPYIS3DL",
    "outputId": "b0f6f87f-9055-445f-bae7-6cd09a6d7421"
   },
   "outputs": [
    {
     "name": "stdout",
     "output_type": "stream",
     "text": [
      "0.00000000 Seconds\n",
      "[[5. 0. 0. 0. 0.]\n",
      " [0. 8. 0. 0. 0.]\n",
      " [0. 0. 9. 0. 0.]\n",
      " [0. 0. 0. 8. 0.]\n",
      " [0. 0. 0. 0. 5.]]\n"
     ]
    }
   ],
   "source": [
    "d = np.zeros((5, 5))\n",
    "t0 = time.time()\n",
    "for i in range(5):\n",
    "    for j in range(5):\n",
    "        d[i][j] = a[i][j] * b[i][j]\n",
    "t1 = time.time()\n",
    "print('{0:.8f} Seconds'.format(t1 - t0))\n",
    "print(d)"
   ]
  },
  {
   "cell_type": "markdown",
   "metadata": {
    "colab_type": "text",
    "id": "R72OSWtsS3DP"
   },
   "source": [
    "Соответственно более сложные операции не сократят разницу во времени работы."
   ]
  },
  {
   "cell_type": "code",
   "execution_count": 32,
   "metadata": {
    "colab": {},
    "colab_type": "code",
    "id": "QJR3ElsPS3DR",
    "outputId": "0306b731-df85-412f-dff8-3b4d1b7c947c"
   },
   "outputs": [
    {
     "name": "stdout",
     "output_type": "stream",
     "text": [
      "0.00099754 Seconds\n",
      "[[ 65  31  56 -32]\n",
      " [ 73  29  89 -48]\n",
      " [-50 -35 -20  20]\n",
      " [-29 -23 102 141]]\n"
     ]
    }
   ],
   "source": [
    "a = np.array([[1, 3, 3, 4], [7, 2, 12, 4], [1, -2, 3, -4], [10, 7, 2, -9]])\n",
    "b = a.copy()\n",
    "t0 = time.time()\n",
    "c = np.dot(a, b)\n",
    "t1 = time.time()\n",
    "print('{0:.8f} Seconds'.format(t1 - t0))\n",
    "print(c)"
   ]
  },
  {
   "cell_type": "code",
   "execution_count": 33,
   "metadata": {
    "colab": {},
    "colab_type": "code",
    "id": "992ZPN4XS3Db",
    "outputId": "3d19576c-0ec2-48ac-e288-51e8968bd414"
   },
   "outputs": [
    {
     "name": "stdout",
     "output_type": "stream",
     "text": [
      "0.00102854 Seconds\n",
      "[[ 65.  31.  56. -32.]\n",
      " [ 73.  29.  89. -48.]\n",
      " [-50. -35. -20.  20.]\n",
      " [-29. -23. 102. 141.]]\n"
     ]
    }
   ],
   "source": [
    "d = np.zeros((4, 4))\n",
    "t0 = time.time()\n",
    "for i in range(4):\n",
    "    for j in range(4):\n",
    "        for k in range(4):\n",
    "            d[i][j] += a[i][k] * b[k][j]\n",
    "t1 = time.time()\n",
    "print('{0:.8f} Seconds'.format(t1 - t0))\n",
    "print(d)"
   ]
  },
  {
   "cell_type": "markdown",
   "metadata": {
    "colab_type": "text",
    "id": "KQE_MzzBS3Dd"
   },
   "source": [
    "Matplotlib.\n",
    "======"
   ]
  },
  {
   "cell_type": "markdown",
   "metadata": {
    "colab_type": "text",
    "id": "Jk2BYGGhS3De"
   },
   "source": [
    "Matplotlib - это питоновская библиотека для создания двухмерных графиков высокого качества (publication quality). Достаточно проста в обращении и позволяет в несколько строк рисовать графики и диаграммы."
   ]
  },
  {
   "cell_type": "markdown",
   "metadata": {
    "colab_type": "text",
    "id": "Nz4XpcdXS3De"
   },
   "source": [
    "Как и другие библиотеки импортируется (в данном случае сразу с модулем, с помощью которого строятся графики):"
   ]
  },
  {
   "cell_type": "code",
   "execution_count": 34,
   "metadata": {
    "colab": {},
    "colab_type": "code",
    "id": "AT7i_EtBS3Df"
   },
   "outputs": [],
   "source": [
    "import matplotlib.pyplot as plt"
   ]
  },
  {
   "cell_type": "markdown",
   "metadata": {
    "colab_type": "text",
    "id": "i3pEJr5YS3Dh"
   },
   "source": [
    "* ***plot()***"
   ]
  },
  {
   "cell_type": "markdown",
   "metadata": {
    "colab_type": "text",
    "id": "O4H4ynArS3Dh"
   },
   "source": [
    "plot() является основным методом для создания графиков:"
   ]
  },
  {
   "cell_type": "code",
   "execution_count": 35,
   "metadata": {
    "colab": {},
    "colab_type": "code",
    "id": "lMkEgQBbS3Di",
    "outputId": "4368122e-ac91-43ee-f97a-0f94aa77d36d"
   },
   "outputs": [
    {
     "data": {
      "image/png": "[encoded data removed]",
      "text/plain": [
       "<Figure size 432x288 with 1 Axes>"
      ]
     },
     "metadata": {
      "needs_background": "light"
     },
     "output_type": "display_data"
    }
   ],
   "source": [
    "plt.plot(np.array([1,2,3]))\n",
    "plt.show()"
   ]
  },
  {
   "cell_type": "markdown",
   "metadata": {
    "colab_type": "text",
    "id": "f1DoZsMmS3Dl"
   },
   "source": [
    "Может возникнуть вопрос почему по оси X у нас значения от 0 до 2, а по Y - от 1 до 3. Если вы передадите один список или массив команде plot(), то matplotlib воспринимает его как последовательность Y значений и автоматически генерирует значения X. Поскольку python начинает считать с 0, по умолчанию вектор X имеет такую же длинну как Y, но начинается с нуля."
   ]
  },
  {
   "cell_type": "markdown",
   "metadata": {
    "colab_type": "text",
    "id": "kiX4vRUoS3Dl"
   },
   "source": [
    "plot() - универсальный метод и в него можно передавать произвольное количество аргументов. Например, для того, чтобы отобразить y в зависимости от x, можно выполнить команду:"
   ]
  },
  {
   "cell_type": "code",
   "execution_count": 36,
   "metadata": {
    "colab": {},
    "colab_type": "code",
    "id": "ht0XL0QcS3Dm"
   },
   "outputs": [
    {
     "data": {
      "image/png": "[encoded data removed]",
      "text/plain": [
       "<Figure size 432x288 with 1 Axes>"
      ]
     },
     "metadata": {
      "needs_background": "light"
     },
     "output_type": "display_data"
    }
   ],
   "source": [
    "plt.plot([1,2,3,4], [1,4,9,16])\n",
    "plt.axis([0, 9, 0, 18])\n",
    "plt.show()"
   ]
  },
  {
   "cell_type": "markdown",
   "metadata": {
    "colab_type": "text",
    "id": "GqfbVsPaS3Dp"
   },
   "source": [
    "Метод axis() получает в качестве аргументов [xmin, xmax, ymin, ymax] которые устанавливают минимальные и максимальные границы осей."
   ]
  },
  {
   "cell_type": "markdown",
   "metadata": {
    "colab_type": "text",
    "id": "OEnFwPBUS3Dq"
   },
   "source": [
    "Для каждой пары аргументов x-y существует необязательный третий аргумент - строка форматирования, которая определяет цвет и тип линии. По умолчанию строка форматирования выглядит как b-, что значит непрерывная синяя линия. Для того чтобы отобразить данные из предыдущего примера красными кружками нужно ввести ro, а чтобы зелеными плюсиками - g+."
   ]
  },
  {
   "cell_type": "code",
   "execution_count": 37,
   "metadata": {
    "colab": {},
    "colab_type": "code",
    "id": "qj5Rk8q_S3Dq"
   },
   "outputs": [
    {
     "data": {
      "image/png": "[encoded data removed]",
      "text/plain": [
       "<Figure size 432x288 with 1 Axes>"
      ]
     },
     "metadata": {
      "needs_background": "light"
     },
     "output_type": "display_data"
    }
   ],
   "source": [
    "plt.plot([1,2,3,4], [1,4,9,16], 'ro')\n",
    "plt.axis([0, 9, 0, 18])\n",
    "plt.show()"
   ]
  },
  {
   "cell_type": "markdown",
   "metadata": {
    "colab_type": "text",
    "id": "FD-tq5xKS3Ds"
   },
   "source": [
    "Однако, если бы matplotlib мог работать только со списками, ты был бы довольно бесполезен для обработки данных. И тут в силу вступает NumPy. Как правило для построения графиков используются матрицы, и внутри matplotlib все данные переводятся в массивы numpy."
   ]
  },
  {
   "cell_type": "code",
   "execution_count": 38,
   "metadata": {
    "colab": {},
    "colab_type": "code",
    "id": "QP3MQOjsS3Dt"
   },
   "outputs": [
    {
     "data": {
      "image/png": "[encoded data removed]",
      "text/plain": [
       "<Figure size 432x288 with 1 Axes>"
      ]
     },
     "metadata": {
      "needs_background": "light"
     },
     "output_type": "display_data"
    }
   ],
   "source": [
    "a = np.arange(0., 5., 0.2)\n",
    "plt.plot(a, a, 'r--', a, a**2, 'bs', a, a**3, 'g^')\n",
    "plt.show()"
   ]
  },
  {
   "cell_type": "markdown",
   "metadata": {
    "colab_type": "text",
    "id": "uHb-IyG9S3Dx"
   },
   "source": [
    "У линий есть множество атрибутов которые вы можете установить: толщина, стиль, антиалиасинг и т.д."
   ]
  },
  {
   "cell_type": "markdown",
   "metadata": {
    "colab_type": "text",
    "id": "rpYl56XbS3Dy"
   },
   "source": [
    "Например:"
   ]
  },
  {
   "cell_type": "code",
   "execution_count": 39,
   "metadata": {
    "colab": {},
    "colab_type": "code",
    "id": "fEoOCa7VS3Dz",
    "outputId": "a2132568-5c50-4956-a6a9-80ab7b66898a"
   },
   "outputs": [
    {
     "data": {
      "image/png": "[encoded data removed]",
      "text/plain": [
       "<Figure size 432x288 with 1 Axes>"
      ]
     },
     "metadata": {
      "needs_background": "light"
     },
     "output_type": "display_data"
    }
   ],
   "source": [
    "plt.plot([1,2,3,4], [1,4,9,16], linewidth=5.0)\n",
    "plt.axis([0, 9, 0, 18])\n",
    "plt.show()"
   ]
  },
  {
   "cell_type": "markdown",
   "metadata": {
    "colab_type": "text",
    "id": "rI-q2tUZS3D3"
   },
   "source": [
    "* ***Гистограммы и диаграммы***"
   ]
  },
  {
   "cell_type": "markdown",
   "metadata": {
    "colab_type": "text",
    "id": "NTYHjnl5S3D5"
   },
   "source": [
    "Напомним, что ***гистограмма*** — один из типов диаграмм, способ графического представления табличных данных, в котором количественные соотношения некоторого показателя представлены в виде прямоугольников, площади которых пропорциональны вкладу. Для того, чтобы проиллюстрировать это определение и то, как его можно получить, напишем небольшую программу:"
   ]
  },
  {
   "cell_type": "code",
   "execution_count": 40,
   "metadata": {
    "colab": {},
    "colab_type": "code",
    "id": "HvwAT6-LS3D9"
   },
   "outputs": [
    {
     "data": {
      "image/png": "[encoded data removed]",
      "text/plain": [
       "<Figure size 432x288 with 1 Axes>"
      ]
     },
     "metadata": {
      "needs_background": "light"
     },
     "output_type": "display_data"
    }
   ],
   "source": [
    "y = np.random.randn(1000)\n",
    "plt.hist(y, 25)\n",
    "plt.show()"
   ]
  },
  {
   "cell_type": "markdown",
   "metadata": {
    "colab_type": "text",
    "id": "me99WU62S3D_"
   },
   "source": [
    "Здесь мы используем метод randn() модуля numpy.random, который создает массив из случайных точек в соответствии с Гауссовым распределением, и функцию hist(). Первым аргументом она принимает массив чисел, вторым необязательным аргументом является число полос, на которые будет разбит массив. По умолчанию это число равно десяти, мы присвоили ему значение 25."
   ]
  },
  {
   "cell_type": "markdown",
   "metadata": {
    "colab_type": "text",
    "id": "J5pwVbUTS3EA"
   },
   "source": [
    "Кроме гистограмм на практике часто используются ***графики рассеяния***."
   ]
  },
  {
   "cell_type": "markdown",
   "metadata": {
    "colab_type": "text",
    "id": "XrKjSYu1S3EB"
   },
   "source": [
    "Такой тип графиков позволяет изображать одновременно два множества данных, которые не образуют кривой, а представляются именно в виде двухмерного множества точек. Каждая точка имеет две координаты. График рассеяния часто используется для определения связи между двумя величинами и позволяет определить более точные пределы измерений."
   ]
  },
  {
   "cell_type": "markdown",
   "metadata": {
    "colab_type": "text",
    "id": "q410L9X9S3EC"
   },
   "source": [
    "В модуле matplotlib.pyplot имеется своя функция, для графика рассеяния - scatter(). Как от нее и ожидается, она принимает две последовательности и изображает их на плоскости в виде маркеров, по умолчанию они круглые и синие. Но естественно, их можно изменять:"
   ]
  },
  {
   "cell_type": "code",
   "execution_count": 41,
   "metadata": {
    "colab": {},
    "colab_type": "code",
    "id": "7TqWLyZKS3ED"
   },
   "outputs": [
    {
     "name": "stderr",
     "output_type": "stream",
     "text": [
      "C:\\Anaconda\\lib\\site-packages\\matplotlib\\collections.py:857: RuntimeWarning: invalid value encountered in sqrt\n",
      "  scale = np.sqrt(self._sizes) * dpi / 72.0 * self._factor\n"
     ]
    },
    {
     "data": {
      "image/png": "[encoded data removed]",
      "text/plain": [
       "<Figure size 432x288 with 1 Axes>"
      ]
     },
     "metadata": {
      "needs_background": "light"
     },
     "output_type": "display_data"
    }
   ],
   "source": [
    "x = np.random.randn(1000)\n",
    "y = np.random.randn(1000)\n",
    "\n",
    "size = 50*np.random.randn(1000)\n",
    "colors = np.random.rand(1000)\n",
    "\n",
    "plt.scatter(x, y, s=size, c=colors)\n",
    "plt.show()"
   ]
  },
  {
   "cell_type": "markdown",
   "metadata": {
    "colab_type": "text",
    "id": "bQKR0_WWS3EF"
   },
   "source": [
    "* s задает размер маркеров и может быть как одним числом для всех, так и представлять массив значений"
   ]
  },
  {
   "cell_type": "markdown",
   "metadata": {
    "colab_type": "text",
    "id": "50oieEoaS3EG"
   },
   "source": [
    "* c задает цвет маркеров, также либо один для всех, либо множество"
   ]
  },
  {
   "cell_type": "markdown",
   "metadata": {
    "colab_type": "text",
    "id": "vt9rLR5ES3EH"
   },
   "source": [
    "И еще одна часто используемая диаграмма - ***круговая диаграмма*** или, как ее еще назвают, пончиковая диаграмма."
   ]
  },
  {
   "cell_type": "markdown",
   "metadata": {
    "colab_type": "text",
    "id": "SWPF8tWoS3EJ"
   },
   "source": [
    "Такой вид диаграмм используется, когда для нас существенно сравнение вклада каждого участника в общее дело. Функция для диаграммы называется pie() и принимает первым аргументом последовательность из внесенных единиц, а поледующими - любое из многочисленных keywords:"
   ]
  },
  {
   "cell_type": "markdown",
   "metadata": {
    "colab_type": "text",
    "id": "PFTOM5aXS3EK"
   },
   "source": [
    "* colors задает используемые цвета, в которые раскрашиваются куски «пирога»"
   ]
  },
  {
   "cell_type": "markdown",
   "metadata": {
    "colab_type": "text",
    "id": "ngsnhLNpS3EL"
   },
   "source": [
    "* labels задает имена, по одному на каждый элемент x"
   ]
  },
  {
   "cell_type": "markdown",
   "metadata": {
    "colab_type": "text",
    "id": "XJ9ImqpKS3EM"
   },
   "source": [
    "* labeldistance определяет радиальное расстояние на котором эти имена выводятся"
   ]
  },
  {
   "cell_type": "markdown",
   "metadata": {
    "colab_type": "text",
    "id": "692jZhP9S3EN"
   },
   "source": [
    "* autopct задает тип форматирования численных значений"
   ]
  },
  {
   "cell_type": "markdown",
   "metadata": {
    "colab_type": "text",
    "id": "U5OrRuCKS3EN"
   },
   "source": [
    "* shadow добавляет тень"
   ]
  },
  {
   "cell_type": "code",
   "execution_count": 42,
   "metadata": {
    "colab": {},
    "colab_type": "code",
    "id": "7eVffZtoS3EO"
   },
   "outputs": [
    {
     "data": {
      "image/png": "[encoded data removed]",
      "text/plain": [
       "<Figure size 504x360 with 1 Axes>"
      ]
     },
     "metadata": {},
     "output_type": "display_data"
    }
   ],
   "source": [
    "plt.figure(figsize=(7,5))\n",
    "x = [18, 15, 11, 9, 8, 6]\n",
    "labels = ['Java', 'C', 'C++', 'PHP', '(Visual) Basic', 'Python']\n",
    "explode = [0, 0, 0, 0, 0, 0.2]\n",
    "\n",
    "plt.pie(x, labels = labels, explode = explode, autopct = '%1.1f%%', shadow=True);\n",
    "plt.show()"
   ]
  },
  {
   "cell_type": "markdown",
   "metadata": {
    "colab_type": "text",
    "id": "wdAbM5pzS3EQ"
   },
   "source": [
    "Здесь так же употребляется инструкция figure(figsize=(7,5)), которая, как несложно понять, задает размеры нашего эллипса."
   ]
  },
  {
   "cell_type": "markdown",
   "metadata": {
    "colab_type": "text",
    "id": "8mdBAz3xS3EQ"
   },
   "source": [
    "Цвет в таких диаграммах чередуется сам собой, порядок по умолчанию для matplotlib: blue, green, red, cyan, magenta, yellow."
   ]
  },
  {
   "cell_type": "markdown",
   "metadata": {
    "colab_type": "text",
    "id": "9j5dalXdS3ER"
   },
   "source": [
    "Seaborn. *\n",
    "=="
   ]
  },
  {
   "cell_type": "markdown",
   "metadata": {
    "colab_type": "text",
    "id": "n_cR5syWS3ER"
   },
   "source": [
    "Seaborn это  библиотека для Python, основанная на Matplotlib, которая предоставляет высокоуровневый интерфейс для красивого визуализирования данных. Отличается от Matplotlib тем, что имеет встроенные функции обработки данных, которые позволяют быстрее и удобнее работать с графиками."
   ]
  },
  {
   "cell_type": "markdown",
   "metadata": {
    "colab_type": "text",
    "id": "wiwIUTq2S3ER"
   },
   "source": [
    "* *пример 1*"
   ]
  },
  {
   "cell_type": "code",
   "execution_count": 43,
   "metadata": {
    "colab": {},
    "colab_type": "code",
    "id": "gH8D2v9US3ES"
   },
   "outputs": [
    {
     "name": "stdout",
     "output_type": "stream",
     "text": [
      "     year      month  passengers\n",
      "0    1949    January         112\n",
      "1    1949   February         118\n",
      "2    1949      March         132\n",
      "3    1949      April         129\n",
      "4    1949        May         121\n",
      "5    1949       June         135\n",
      "6    1949       July         148\n",
      "7    1949     August         148\n",
      "8    1949  September         136\n",
      "9    1949    October         119\n",
      "10   1949   November         104\n",
      "11   1949   December         118\n",
      "12   1950    January         115\n",
      "13   1950   February         126\n",
      "14   1950      March         141\n",
      "15   1950      April         135\n",
      "16   1950        May         125\n",
      "17   1950       June         149\n",
      "18   1950       July         170\n",
      "19   1950     August         170\n",
      "20   1950  September         158\n",
      "21   1950    October         133\n",
      "22   1950   November         114\n",
      "23   1950   December         140\n",
      "24   1951    January         145\n",
      "25   1951   February         150\n",
      "26   1951      March         178\n",
      "27   1951      April         163\n",
      "28   1951        May         172\n",
      "29   1951       June         178\n",
      "..    ...        ...         ...\n",
      "114  1958       July         491\n",
      "115  1958     August         505\n",
      "116  1958  September         404\n",
      "117  1958    October         359\n",
      "118  1958   November         310\n",
      "119  1958   December         337\n",
      "120  1959    January         360\n",
      "121  1959   February         342\n",
      "122  1959      March         406\n",
      "123  1959      April         396\n",
      "124  1959        May         420\n",
      "125  1959       June         472\n",
      "126  1959       July         548\n",
      "127  1959     August         559\n",
      "128  1959  September         463\n",
      "129  1959    October         407\n",
      "130  1959   November         362\n",
      "131  1959   December         405\n",
      "132  1960    January         417\n",
      "133  1960   February         391\n",
      "134  1960      March         419\n",
      "135  1960      April         461\n",
      "136  1960        May         472\n",
      "137  1960       June         535\n",
      "138  1960       July         622\n",
      "139  1960     August         606\n",
      "140  1960  September         508\n",
      "141  1960    October         461\n",
      "142  1960   November         390\n",
      "143  1960   December         432\n",
      "\n",
      "[144 rows x 3 columns]\n"
     ]
    }
   ],
   "source": [
    "import seaborn as sns\n",
    "sns.set()\n",
    "flights_long = sns.load_dataset(\"flights\")\n",
    "print(flights_long)"
   ]
  },
  {
   "cell_type": "markdown",
   "metadata": {
    "colab_type": "text",
    "id": "bKirVP-1S3ET"
   },
   "source": [
    "Здесь мы создаем объект set(), к которым будем работать, и импортируем, как и в следующем куске кода, данные по полетам, которые хранятся в самой библиотеке seaborn."
   ]
  },
  {
   "cell_type": "code",
   "execution_count": 44,
   "metadata": {
    "colab": {},
    "colab_type": "code",
    "id": "xUuH40-IS3EU"
   },
   "outputs": [
    {
     "name": "stdout",
     "output_type": "stream",
     "text": [
      "year       1949  1950  1951  1952  1953  1954  1955  1956  1957  1958  1959  \\\n",
      "month                                                                         \n",
      "January     112   115   145   171   196   204   242   284   315   340   360   \n",
      "February    118   126   150   180   196   188   233   277   301   318   342   \n",
      "March       132   141   178   193   236   235   267   317   356   362   406   \n",
      "April       129   135   163   181   235   227   269   313   348   348   396   \n",
      "May         121   125   172   183   229   234   270   318   355   363   420   \n",
      "June        135   149   178   218   243   264   315   374   422   435   472   \n",
      "July        148   170   199   230   264   302   364   413   465   491   548   \n",
      "August      148   170   199   242   272   293   347   405   467   505   559   \n",
      "September   136   158   184   209   237   259   312   355   404   404   463   \n",
      "October     119   133   162   191   211   229   274   306   347   359   407   \n",
      "November    104   114   146   172   180   203   237   271   305   310   362   \n",
      "December    118   140   166   194   201   229   278   306   336   337   405   \n",
      "\n",
      "year       1960  \n",
      "month            \n",
      "January     417  \n",
      "February    391  \n",
      "March       419  \n",
      "April       461  \n",
      "May         472  \n",
      "June        535  \n",
      "July        622  \n",
      "August      606  \n",
      "September   508  \n",
      "October     461  \n",
      "November    390  \n",
      "December    432  \n"
     ]
    }
   ],
   "source": [
    "flights = flights_long.pivot(\"month\", \"year\", \"passengers\")\n",
    "print(flights)"
   ]
  },
  {
   "cell_type": "code",
   "execution_count": 45,
   "metadata": {
    "colab": {},
    "colab_type": "code",
    "id": "YYiz5FAMS3EV"
   },
   "outputs": [
    {
     "name": "stdout",
     "output_type": "stream",
     "text": [
      "Figure(648x432) AxesSubplot(0.125,0.125;0.775x0.755)\n"
     ]
    },
    {
     "data": {
      "image/png": "[encoded data removed]",
      "text/plain": [
       "<Figure size 648x432 with 1 Axes>"
      ]
     },
     "metadata": {},
     "output_type": "display_data"
    }
   ],
   "source": [
    "f, ax = plt.subplots(figsize=(9, 6))\n",
    "print(f, ax)"
   ]
  },
  {
   "cell_type": "markdown",
   "metadata": {
    "colab_type": "text",
    "id": "XnBvfa5VS3Ea"
   },
   "source": [
    "Задаем размеры будущей таблицы."
   ]
  },
  {
   "cell_type": "code",
   "execution_count": 46,
   "metadata": {
    "colab": {},
    "colab_type": "code",
    "id": "1gLNHNftS3Ea"
   },
   "outputs": [],
   "source": [
    "sns.heatmap(flights, annot=True, fmt=\"d\", linewidths=1, ax=ax)\n",
    "plt.show()"
   ]
  },
  {
   "cell_type": "markdown",
   "metadata": {
    "colab_type": "text",
    "id": "cyg80nBnS3Eb"
   },
   "source": [
    "Задаем параметры таблицы: толщина разделительных линий, наличие данных в ней и т.д. "
   ]
  },
  {
   "cell_type": "markdown",
   "metadata": {
    "colab_type": "text",
    "id": "IqH6_tpvS3Ec"
   },
   "source": [
    "* *пример 2*"
   ]
  },
  {
   "cell_type": "code",
   "execution_count": 47,
   "metadata": {
    "colab": {},
    "colab_type": "code",
    "id": "gSOM3XD3S3Ec"
   },
   "outputs": [],
   "source": [
    "import pandas as pd"
   ]
  },
  {
   "cell_type": "markdown",
   "metadata": {
    "colab_type": "text",
    "id": "C5VLroylS3Ef"
   },
   "source": [
    "Pandas - библиотека для анализа данных. Более подробно будет рассмотрена в следующей лекции, сейчас мы просто будем ее использовать."
   ]
  },
  {
   "cell_type": "code",
   "execution_count": 48,
   "metadata": {
    "colab": {},
    "colab_type": "code",
    "id": "kPTv4R_7S3Ef"
   },
   "outputs": [],
   "source": [
    "sns.set()\n",
    "rs = np.random.RandomState(5)\n",
    "mean = [0, 0]\n",
    "cov = [(1, .5), (.5, 1)]"
   ]
  },
  {
   "cell_type": "markdown",
   "metadata": {
    "colab_type": "text",
    "id": "xioXdQkMS3Ei"
   },
   "source": [
    "В этом примере мы будем визуализировать множество точек. Они с определенным распределением создаются методом random'а RandomState(). Кроме того задаем центр и параметры распределения."
   ]
  },
  {
   "cell_type": "code",
   "execution_count": 49,
   "metadata": {
    "colab": {},
    "colab_type": "code",
    "id": "azxpKtQgS3Ei"
   },
   "outputs": [],
   "source": [
    "x1, x2 = rs.multivariate_normal(mean, cov, 500).T\n",
    "x1 = pd.Series(x1, name=\"$X_1$\")\n",
    "x2 = pd.Series(x2, name=\"$X_2$\")"
   ]
  },
  {
   "cell_type": "markdown",
   "metadata": {
    "colab_type": "text",
    "id": "tw9sOGSSS3Ek"
   },
   "source": [
    "Здесь мы преобразуем множество для представления на графике."
   ]
  },
  {
   "cell_type": "code",
   "execution_count": 50,
   "metadata": {
    "colab": {},
    "colab_type": "code",
    "id": "Lqx0VdEHS3El"
   },
   "outputs": [
    {
     "name": "stderr",
     "output_type": "stream",
     "text": [
      "C:\\Anaconda\\lib\\site-packages\\seaborn\\axisgrid.py:2262: UserWarning: The `size` paramter has been renamed to `height`; please update your code.\n",
      "  warnings.warn(msg, UserWarning)\n"
     ]
    },
    {
     "data": {
      "image/png": "[encoded data removed]",
      "text/plain": [
       "<Figure size 504x504 with 3 Axes>"
      ]
     },
     "metadata": {},
     "output_type": "display_data"
    }
   ],
   "source": [
    "g = sns.jointplot(x1, x2, kind=\"kde\", size=7, space=0)\n",
    "plt.show()"
   ]
  },
  {
   "cell_type": "markdown",
   "metadata": {
    "colab_type": "text",
    "id": "v4UhoYlVS3En"
   },
   "source": [
    "Как мы видим, способов визуализации графиков или множеств достаточно много и они не очень сложные. В них имеется большое количество методов, на разбор которых уйдет очень много времени, однако они все есть в открытом доступе."
   ]
  },
  {
   "cell_type": "code",
   "execution_count": null,
   "metadata": {},
   "outputs": [],
   "source": []
  }
 ],
 "metadata": {
  "colab": {
   "name": "Семинар+NumPy_Matplotlib_Seborn.ipynb",
   "provenance": []
  },
  "kernelspec": {
   "display_name": "Python 3",
   "language": "python",
   "name": "python3"
  },
  "language_info": {
   "codemirror_mode": {
    "name": "ipython",
    "version": 3
   },
   "file_extension": ".py",
   "mimetype": "text/x-python",
   "name": "python",
   "nbconvert_exporter": "python",
   "pygments_lexer": "ipython3",
   "version": "3.7.3"
  }
 },
 "nbformat": 4,
 "nbformat_minor": 4
}
